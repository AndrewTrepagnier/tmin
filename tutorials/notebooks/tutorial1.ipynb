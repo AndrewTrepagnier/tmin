{
 "cells": [
  {
   "cell_type": "code",
   "execution_count": null,
   "metadata": {},
   "outputs": [
    {
     "ename": "",
     "evalue": "",
     "output_type": "error",
     "traceback": [
      "\u001b[1;31mRunning cells with 'Python 3.13.5' requires the ipykernel package.\n",
      "\u001b[1;31mRun the following command to install 'ipykernel' into the Python environment. \n",
      "\u001b[1;31mCommand: '/opt/homebrew/bin/python3 -m pip install ipykernel -U --user --force-reinstall'"
     ]
    }
   ],
   "source": [
    "# pip install tmin"
   ]
  },
  {
   "cell_type": "markdown",
   "metadata": {},
   "source": [
    "## Quick Start\n",
    "\n",
    "The following code examples will show you how to:\n",
    "1. Create a pipe instance\n",
    "2. Perform basic analysis\n",
    "3. Generate reports and visualizations\n",
    "4. Handle different pipe configurations "
   ]
  },
  {
   "cell_type": "code",
   "execution_count": null,
   "metadata": {},
   "outputs": [],
   "source": [
    "import tmin as tmin"
   ]
  },
  {
   "cell_type": "markdown",
   "metadata": {},
   "source": [
    "Users can first define two attributes:\n",
    "\n",
    "* **Measured thickness** - This typically comes from an NDE analysis of the pipe (ex. UT, RT, X-Ray)\n",
    "* **Inspection Year** - What year was the inspection done (ex. 1999, 2001, 2002,...)"
   ]
  },
  {
   "cell_type": "code",
   "execution_count": null,
   "metadata": {},
   "outputs": [],
   "source": [
    "measured_thickness = 0.060 #in\n",
    "year_inspected = 2023"
   ]
  },
  {
   "cell_type": "markdown",
   "metadata": {},
   "source": [
    "Define the necessary argmuments about the pipe in which the measured thickness point lies on.\n",
    "\n",
    "Users are asked to define their own allowable stress for better flexibility"
   ]
  },
  {
   "cell_type": "code",
   "execution_count": null,
   "metadata": {},
   "outputs": [],
   "source": [
    "# Step 3: Instatiate with details about the pipe\n",
    "pipe = tmin.PIPE(\n",
    "    schedule=\"40\",\n",
    "    nps=\"2\",\n",
    "    pressure=200.0,\n",
    "    pressure_class=300,\n",
    "    metallurgy=\"Intermediate/Low CS\",\n",
    "    allowable_stress=23333.0,\n",
    "    corrosion_rate=5.0,\n",
    "    default_retirement_limit=0.080\n",
    ")"
   ]
  },
  {
   "cell_type": "code",
   "execution_count": null,
   "metadata": {},
   "outputs": [],
   "source": [
    "# Step 4: Run analysis\n",
    "results = pipe.analysis(measured_thickness, year_inspected)"
   ]
  },
  {
   "cell_type": "code",
   "execution_count": null,
   "metadata": {},
   "outputs": [],
   "source": [
    "# Step 5: Generate reports and visuals\n",
    "report_files = pipe.report(measured_thickness, year_inspected)\n",
    "print(\"\\nDone! Check the Reports folder for your files.\") "
   ]
  }
 ],
 "metadata": {
  "kernelspec": {
   "display_name": "Python 3",
   "language": "python",
   "name": "python3"
  },
  "language_info": {
   "name": "python",
   "version": "3.13.5"
  }
 },
 "nbformat": 4,
 "nbformat_minor": 2
}
